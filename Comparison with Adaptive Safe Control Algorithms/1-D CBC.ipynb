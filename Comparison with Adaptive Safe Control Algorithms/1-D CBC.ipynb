{
 "cells": [
  {
   "cell_type": "code",
   "execution_count": 1,
   "id": "90143048",
   "metadata": {},
   "outputs": [],
   "source": [
    "import numpy as np\n",
    "import matplotlib.pyplot as plt\n",
    "from scipy import integrate\n",
    "import control as ct\n",
    "import qpsolvers\n",
    "from qpsolvers import solve_qp\n",
    "from matplotlib import animation\n",
    "from scipy import signal\n",
    "import math\n",
    "import cvxpy as cp\n",
    "import copy"
   ]
  },
  {
   "cell_type": "code",
   "execution_count": 2,
   "id": "c3dcbfa5",
   "metadata": {},
   "outputs": [],
   "source": [
    "N=20\n",
    "t=np.arange(N)*(1/(4*N))"
   ]
  },
  {
   "cell_type": "code",
   "execution_count": 3,
   "id": "26b6de36",
   "metadata": {},
   "outputs": [],
   "source": [
    "x_0=[0.1999]\n",
    "theta_est_0=0"
   ]
  },
  {
   "cell_type": "code",
   "execution_count": 4,
   "id": "566674f1",
   "metadata": {},
   "outputs": [],
   "source": [
    "def F (x):\n",
    "    return x"
   ]
  },
  {
   "cell_type": "code",
   "execution_count": 5,
   "id": "9fcea3a4",
   "metadata": {},
   "outputs": [],
   "source": [
    "def g (x): \n",
    "    return 1.0"
   ]
  },
  {
   "cell_type": "code",
   "execution_count": 6,
   "id": "30ff26eb",
   "metadata": {},
   "outputs": [],
   "source": [
    "def f (x):\n",
    "    return 1.0*x"
   ]
  },
  {
   "cell_type": "code",
   "execution_count": 7,
   "id": "bb303f92",
   "metadata": {},
   "outputs": [],
   "source": [
    "theta_star=0.5"
   ]
  },
  {
   "cell_type": "code",
   "execution_count": 8,
   "id": "72a1dcfb",
   "metadata": {},
   "outputs": [],
   "source": [
    "phi=lambda x: 1-25*x**2"
   ]
  },
  {
   "cell_type": "code",
   "execution_count": 9,
   "id": "0434807b",
   "metadata": {},
   "outputs": [],
   "source": [
    "#Hyperparameters\n",
    "\n",
    "theta=0.07\n",
    "margin=0.0\n",
    "eta=0.000001\n",
    "#D=0.07\n",
    "#correction_strength=4\n",
    "#alpha=10"
   ]
  },
  {
   "cell_type": "code",
   "execution_count": 10,
   "id": "9b5cebfe",
   "metadata": {},
   "outputs": [],
   "source": [
    "Ts=(1/(4*N))\n",
    "U=np.zeros(N)\n",
    "S=np.zeros(N)\n",
    "Dot_X=np.zeros(N)\n",
    "Dot_theta_est=np.zeros(N)\n",
    "count=0\n",
    "\n",
    "\n",
    "#Gamma=5.0\n",
    "#last_u=0\n",
    "#last_u=u_nominal(x_0)\n",
    "#global_state=0\n",
    "#global_u=0\n",
    "#global_timer=0\n",
    "\n",
    "\n",
    "#r_min=0.0\n",
    "#r_max=1.0\n",
    "\n",
    "#v_max=2.0"
   ]
  },
  {
   "cell_type": "code",
   "execution_count": 11,
   "id": "cde9b88d",
   "metadata": {},
   "outputs": [],
   "source": [
    "#Function that takes a point p and the set of vertices of the convex polygon V in 2_D. \n",
    "#Returns the projection of p in the convex polygon wrt Euclidean norm\n",
    "def proj(p,V):\n",
    "    \n",
    "    n=V.shape[1]\n",
    "    alpha=cp.Variable(n)\n",
    "    o=np.ones(n)\n",
    "    z=np.zeros(n)\n",
    "    constraints=[o.T@alpha==1]\n",
    "    constraints+=[alpha>=z]\n",
    "    constraints+=[alpha<=o]\n",
    "    prob=cp.Problem(cp.Minimize(cp.square((p[0]-alpha.T@V[0]))+cp.square((p[1]-alpha.T@V[1]))),constraints)\n",
    "    prob.solve()\n",
    "    weights=np.zeros(n)\n",
    "    weights=alpha.value\n",
    "    #print(weights)\n",
    "    y=np.zeros(2)\n",
    "    for i in range(n):\n",
    "                    y=y+weights[i]*V[:,i]\n",
    "    for i in range(2):        #rounding up to avoid numerical errors\n",
    "        if(np.abs(y[i])<0.00001):\n",
    "            y[i]=0\n",
    "    return y\n",
    "                    "
   ]
  },
  {
   "cell_type": "code",
   "execution_count": 12,
   "id": "4c42b3df",
   "metadata": {},
   "outputs": [],
   "source": [
    "# Testing the above function on a square\n",
    "#V=np.array([[1,2,2,1],\n",
    "#          [1,1,2,2]])\n",
    "#p1=np.array([0,0])\n",
    "#p2=np.array([3,3])\n",
    "#p3=np.array([1.5,1.5])\n",
    "#print(proj(p1,V))\n",
    "#print(proj(p2,V))\n",
    "#print(proj(p3,V))\n",
    "#T=np.empty((2,0),float)\n",
    "#T=np.append(T,[[3],[3]],axis=1)\n",
    "#T[1]\n",
    "#print(T)"
   ]
  },
  {
   "cell_type": "code",
   "execution_count": 13,
   "id": "1d8129df",
   "metadata": {},
   "outputs": [],
   "source": [
    "#Now we need a function which outputs a set of corner points like V in proj function above\n",
    "#These points are vertices of a convex region satisfying a set of linear inequalities of the form:\n",
    "#But first we write a function that checks if a point lies inside the feasible region of a set of linear inequalities.\n",
    "\n",
    "def is_feasible(p,A,b):     #need to check if \"Ap<=b\" in vector form.\n",
    "    m=b.shape[0]\n",
    "    epsilon=0.000001\n",
    "    if(A.shape[0]!=m):\n",
    "        print(\"Incorrect input!\")\n",
    "        return 0\n",
    "    feasible=1\n",
    "    for i in range(m):\n",
    "        if(A[i][0]*p[0]+A[i][1]*p[1]>b[i]+epsilon):\n",
    "            feasible=0\n",
    "            #print(\"Infeasible! for constraint:\",i+1)\n",
    "    return feasible\n",
    "    \n"
   ]
  },
  {
   "cell_type": "code",
   "execution_count": 14,
   "id": "91aa5c78",
   "metadata": {},
   "outputs": [],
   "source": [
    "#Now we write a function which takes as input a set of inequalities and returns the extreme points of the feasible\n",
    "#polytope.\n",
    "\n",
    "\n",
    "\n",
    "def feasible_polytope_extreme_points(A,b):\n",
    "    m=b.shape[0]\n",
    "    u=np.zeros(2)\n",
    "    \n",
    "   \n",
    "    \n",
    "    W=np.empty((2,0),float)\n",
    "   \n",
    "    \n",
    "    #We will find pairwise intersection points of two inequalities and add them to the set if it is feasible\n",
    "    \n",
    "    for i in range(m):\n",
    "        for j in range(i+1,m,1):\n",
    "            x=((b[j]*A[i][1]-b[i]*A[j][1])/(A[j][0]*A[i][1]-A[i][0]*A[j][1]))  #solution x\n",
    "            y=((b[j]*A[i][0]-b[i]*A[j][0])/(A[j][1]*A[i][0]-A[i][1]*A[j][0]))  #solution y\n",
    "            #print(\"Solution point:\",(x,y))\n",
    "            if(np.isfinite(x+y)):\n",
    "                u[0]=x\n",
    "                u[1]=y\n",
    "                if(is_feasible(u,A,b)==1):\n",
    "                    W=np.append(W,[[x],[y]],axis=1)\n",
    "                    #print(W)\n",
    "    return W\n",
    "                \n",
    "            \n",
    "            \n",
    "    "
   ]
  },
  {
   "cell_type": "code",
   "execution_count": 15,
   "id": "0a6ce89b",
   "metadata": {},
   "outputs": [],
   "source": [
    "#testing the above two functions for the equilateral triangle with vertices: (0,0),(1,0),(1/2,1/2).\n",
    "\n",
    "#A=np.array([[0.0,-1.0],\n",
    "#    [-1.0,+1.0],\n",
    "#   [1.0,1.0]])\n",
    "#b=np.array([0,0,1])\n",
    "#print(np.shape(A))\n",
    "#print(np.shape(b))\n",
    "#V=feasible_polytope_extreme_points(A,b)\n",
    "#p=np.array([2,0.25])\n",
    "#W=proj(p,V)\n",
    "#print(W)\n",
    "\n",
    "#A=np.array([[-1.0,+1.0]])\n",
    "#b=np.array([-1.0])\n",
    "#V=feasible_polytope_extreme_points(A,b)\n",
    "#plt.scatter(V[0],V[1])\n",
    "\n",
    "#A=np.append(A,[[-1.0,+0.0]],axis=0)\n",
    "#b=np.append(b,[2.0],axis=0)\n",
    "#V=feasible_polytope_extreme_points(A,b)\n",
    "#plt.scatter(V[0],V[1])\n",
    "\n",
    "#A=np.append(A,[[0.0,+1.0]],axis=0)\n",
    "#b=np.append(b,[10.0],axis=0)\n",
    "#V=feasible_polytope_extreme_points(A,b)\n",
    "#plt.scatter(V[0],V[1])\n",
    "\n",
    "#A=np.append(A,[[0.0,-1.0]],axis=0)\n",
    "#b=np.append(b,[0.0],axis=0)\n",
    "#V=feasible_polytope_extreme_points(A,b)\n",
    "#plt.scatter(V[0],V[1])\n",
    "\n",
    "#A=np.append(A,[[1.0,+0.0]],axis=0)\n",
    "#b=np.append(b,[2.0],axis=0)\n",
    "#V=feasible_polytope_extreme_points(A,b)\n",
    "#plt.scatter(V[0],V[1])\n"
   ]
  },
  {
   "cell_type": "code",
   "execution_count": 16,
   "id": "8346c29e",
   "metadata": {},
   "outputs": [],
   "source": [
    "A=np.empty((0,2),float) \n",
    "b=np.empty((0),float)\n",
    "St=np.array([1,1])\n",
    "SEL=np.empty((2,0),float)\n",
    "SEL=np.append(SEL,[[St[0]],[St[1]]],axis=1)\n",
    "def CBC_controller(X):\n",
    "    global A\n",
    "    global b\n",
    "    global St\n",
    "    global count\n",
    "    global SEL\n",
    "    \n",
    "    \n",
    "    if(count==0):\n",
    "        u=-(St[0]/St[1])*X #Robust controller\n",
    "        SEL=np.append(SEL,[[St[0]],[St[1]]],axis=1)#Store the new alpha_t,beta_t\n",
    "        #Remember we have alpha*=1.5*Ts+1, beta*=Ts\n",
    "        #In comparison our algorithm for unknown dynamics only needs to know the sign of beta* correctly.\n",
    "        #We have some initial estimates: -2<=alpha*<=2, 0.01*Ts<=beta<=200*Ts, we add this constraints below:\n",
    "        #1.alpha*<=2\n",
    "        A=np.append(A,[[1,0]],axis=0)\n",
    "        b=np.append(b,[2],axis=0)  \n",
    "        #2.alpha*>=-2\n",
    "        A=np.append(A,[[-1,0]],axis=0)\n",
    "        b=np.append(b,[2],axis=0)\n",
    "        #3.beta<=200*Ts\n",
    "        A=np.append(A,[[0,1]],axis=0)\n",
    "        b=np.append(b,[200*Ts],axis=0)\n",
    "        #4.beta>=0.01*Ts\n",
    "        A=np.append(A,[[0,-1]],axis=0)\n",
    "        b=np.append(b,[-0.01*Ts],axis=0)\n",
    "    \n",
    "        #V=feasible_polytope_extreme_points(A,b)\n",
    "        #print(\"Initial polytope has extreme points:\",V)\n",
    "        \n",
    "    if(count==1):\n",
    "        V=feasible_polytope_extreme_points(A,b)\n",
    "        St=proj(St,V)\n",
    "        u=-(St[0]/St[1])*X #Robust controller\n",
    "        SEL=np.append(SEL,[[St[0]],[St[1]]],axis=1)#Store the new alpha_t,beta_t\n",
    "        \n",
    "    #Now we add data based constraints but only when after every few instants (using the modulo) to reduce complexity\n",
    "    \n",
    "    if(count>=2):\n",
    "        A=np.append(A,[[-S[count-2],-U[count-2]]],axis=0)\n",
    "        b=np.append(b,[eta-S[count-1]],axis=0)\n",
    "        A=np.append(A,[[S[count-2],U[count-2]]],axis=0)\n",
    "        b=np.append(b,[eta+S[count-1]])\n",
    "        #Done adding new constraints now get the verices of the new nested polytope\n",
    "        V=feasible_polytope_extreme_points(A,b)\n",
    "        #print(A)\n",
    "        #print(b)\n",
    "        #plt.scatter(V[0],V[1])\n",
    "        #plt.show()\n",
    "        #print(\"At iteration\",count,\" the extreme points of the consistent polytope are:\",V)\n",
    "        #print(A)\n",
    "        #print(b)\n",
    "        St=proj(St,V)#Gets the updated Steiner point, this is the SEL procedure\n",
    "        SEL=np.append(SEL,[[St[0]],[St[1]]],axis=1)#Store the new alpha_t,beta_t\n",
    "        u=-(St[0]/St[1])*X #Robust controller\n",
    "    return u\n",
    "        \n",
    "    "
   ]
  },
  {
   "cell_type": "code",
   "execution_count": 17,
   "id": "06a124b9",
   "metadata": {},
   "outputs": [],
   "source": [
    "def play_dynamics(X):\n",
    "    global count\n",
    "    global last_u\n",
    "    #u=u_nominal(X)\n",
    "    u=CBC_controller(X)\n",
    "    if (count < N):\n",
    "        U[count]=u\n",
    "        S[count]=X\n",
    "        Dot_X[count]=f(X)+theta_star*F(X)+np.dot(g(X),u)\n",
    "        count=count+1\n",
    "    return (f(X)+theta_star*F(X)+np.dot(g(X),u))"
   ]
  },
  {
   "cell_type": "code",
   "execution_count": 18,
   "id": "b9a7cda9",
   "metadata": {},
   "outputs": [],
   "source": [
    "def dynamics_runner(x_0,t):\n",
    "    d=t.shape[0]\n",
    "    X_0=np.copy(x_0)\n",
    "    X=x_0\n",
    "    X=np.expand_dims(X_0,axis=0)\n",
    "    #print(np.shape(X))\n",
    "    dt=t[1]-t[0]\n",
    "    for i in range(d):\n",
    "        dX=dt*play_dynamics(X[i])\n",
    "        #print(dX)\n",
    "        X_n=X[i]+dX\n",
    "        X=np.append(X,[X_n],axis=0)\n",
    "    return X"
   ]
  },
  {
   "cell_type": "code",
   "execution_count": 19,
   "id": "950b9130",
   "metadata": {},
   "outputs": [
    {
     "name": "stderr",
     "output_type": "stream",
     "text": [
      "/Applications/anaconda3/envs/disparity/lib/python3.6/site-packages/ipykernel_launcher.py:19: RuntimeWarning: invalid value encountered in double_scalars\n",
      "/Applications/anaconda3/envs/disparity/lib/python3.6/site-packages/ipykernel_launcher.py:20: RuntimeWarning: divide by zero encountered in double_scalars\n",
      "/Applications/anaconda3/envs/disparity/lib/python3.6/site-packages/ipykernel_launcher.py:19: RuntimeWarning: divide by zero encountered in double_scalars\n",
      "/Applications/anaconda3/envs/disparity/lib/python3.6/site-packages/ipykernel_launcher.py:20: RuntimeWarning: invalid value encountered in double_scalars\n",
      "/Applications/anaconda3/envs/disparity/lib/python3.6/site-packages/ipykernel_launcher.py:22: RuntimeWarning: invalid value encountered in double_scalars\n"
     ]
    }
   ],
   "source": [
    "X=dynamics_runner(x_0,t)"
   ]
  },
  {
   "cell_type": "code",
   "execution_count": 20,
   "id": "d7428b5e",
   "metadata": {},
   "outputs": [],
   "source": [
    "phi_test=np.zeros(N)\n",
    "for i in range(N):\n",
    "    phi_test[i]=phi(S[i])"
   ]
  },
  {
   "cell_type": "code",
   "execution_count": 21,
   "id": "202ee3bb",
   "metadata": {},
   "outputs": [
    {
     "data": {
      "text/plain": [
       "Text(0.5, 1.0, 'Barrier zeroing function $phi(X)$')"
      ]
     },
     "execution_count": 21,
     "metadata": {},
     "output_type": "execute_result"
    },
    {
     "data": {
      "image/png": "[encoded data removed]",
      "text/plain": [
       "<Figure size 432x288 with 1 Axes>"
      ]
     },
     "metadata": {
      "needs_background": "light"
     },
     "output_type": "display_data"
    }
   ],
   "source": [
    "plt.figure()\n",
    "plt.plot(t[0:N], phi_test[0:N]); plt.axhline(y = 0, c = 'r');plt.axhline(y=theta,c='g'); plt.axhline(y=theta+margin,c='y'); plt.grid()\n",
    "plt.xlabel('time in seconds')\n",
    "plt.ylabel('$phi(X)$')\n",
    "plt.title('Barrier zeroing function $phi(X)$')"
   ]
  },
  {
   "cell_type": "code",
   "execution_count": 22,
   "id": "3a525349",
   "metadata": {},
   "outputs": [
    {
     "data": {
      "text/plain": [
       "Text(0.5, 1.0, 'state space trajectory')"
      ]
     },
     "execution_count": 22,
     "metadata": {},
     "output_type": "execute_result"
    },
    {
     "data": {
      "image/png": "[encoded data removed]",
      "text/plain": [
       "<Figure size 432x288 with 1 Axes>"
      ]
     },
     "metadata": {
      "needs_background": "light"
     },
     "output_type": "display_data"
    }
   ],
   "source": [
    "plt.plot(t[0:N],S[0:N])\n",
    "plt.xlabel('time in seconds')\n",
    "plt.ylabel('state variable')\n",
    "plt.title('state space trajectory')"
   ]
  },
  {
   "cell_type": "code",
   "execution_count": 23,
   "id": "d378adb4",
   "metadata": {},
   "outputs": [
    {
     "data": {
      "text/plain": [
       "array([ -1.        ,  -1.        ,  -3.02515712,  -3.02515723,\n",
       "       -81.49933332, -81.49999447, -81.5       , -81.5       ,\n",
       "       -81.5       , -81.5       , -81.5       , -81.5       ,\n",
       "       -81.5       , -81.5       , -81.5       , -81.5       ,\n",
       "       -81.5       , -81.5       , -81.5       , -81.5       ])"
      ]
     },
     "execution_count": 23,
     "metadata": {},
     "output_type": "execute_result"
    }
   ],
   "source": [
    "U[:]/S[:]"
   ]
  },
  {
   "cell_type": "code",
   "execution_count": 24,
   "id": "d38ecf22",
   "metadata": {},
   "outputs": [
    {
     "data": {
      "text/plain": [
       "<matplotlib.collections.PathCollection at 0x7ff69383e400>"
      ]
     },
     "execution_count": 24,
     "metadata": {},
     "output_type": "execute_result"
    },
    {
     "data": {
      "image/png": "[encoded data removed]",
      "text/plain": [
       "<Figure size 432x288 with 1 Axes>"
      ]
     },
     "metadata": {
      "needs_background": "light"
     },
     "output_type": "display_data"
    }
   ],
   "source": [
    "plt.scatter(SEL[0],SEL[1])"
   ]
  },
  {
   "cell_type": "code",
   "execution_count": 25,
   "id": "f8d299e5",
   "metadata": {},
   "outputs": [
    {
     "name": "stdout",
     "output_type": "stream",
     "text": [
      "50\n"
     ]
    }
   ],
   "source": [
    "#Need to rescale the coarse discretization effects for a proper comparison based simulation\n",
    "\n",
    "M=1000\n",
    "\n",
    "P=int(M/N) #Time period through which the last sample remains same\n",
    "\n",
    "\n",
    "U_cbc=np.zeros(M)\n",
    "S_cbc=np.zeros(M)\n",
    "Dot_X_cbc=np.zeros(M)\n",
    "\n",
    "t_cbc=np.arange(M)*(1/(4*M))"
   ]
  },
  {
   "cell_type": "code",
   "execution_count": 26,
   "id": "7c0da19f",
   "metadata": {},
   "outputs": [],
   "source": [
    "count=0\n",
    "\n",
    "def play_dynamics_cbc(X):\n",
    "    global count\n",
    "    #global last_u\n",
    "    #u=u_nominal(X)\n",
    "    #u=CBC_controller(X)\n",
    "    index=int((count-(count%P))/P) #corresponding index\n",
    "    #print(index)\n",
    "    u=U[index]\n",
    "    if (count < M):\n",
    "        U_cbc[count]=u\n",
    "        S_cbc[count]=X\n",
    "        Dot_X_cbc[count]=f(X)+theta_star*F(X)+np.dot(g(X),u)\n",
    "        count=count+1\n",
    "    return (f(X)+theta_star*F(X)+np.dot(g(X),u))\n"
   ]
  },
  {
   "cell_type": "code",
   "execution_count": 27,
   "id": "060eba5e",
   "metadata": {},
   "outputs": [],
   "source": [
    "def dynamics_runner_cbc(x_0,t):\n",
    "    d=t.shape[0]\n",
    "    X_0=np.copy(x_0)\n",
    "    X=x_0\n",
    "    X=np.expand_dims(X_0,axis=0)\n",
    "    #print(np.shape(X))\n",
    "    dt=t[1]-t[0]\n",
    "    for i in range(d):\n",
    "        dX=dt*play_dynamics_cbc(X[i])\n",
    "        #print(dX)\n",
    "        X_n=X[i]+dX\n",
    "        X=np.append(X,[X_n],axis=0)\n",
    "    return X"
   ]
  },
  {
   "cell_type": "code",
   "execution_count": 28,
   "id": "9a6b5422",
   "metadata": {},
   "outputs": [],
   "source": [
    "X=dynamics_runner_cbc(x_0,t_cbc)"
   ]
  },
  {
   "cell_type": "code",
   "execution_count": 29,
   "id": "2dc9a7b7",
   "metadata": {},
   "outputs": [],
   "source": [
    "phi_cbc=np.zeros(M)\n",
    "for i in range(M):\n",
    "    phi_cbc[i]=phi(S_cbc[i])"
   ]
  },
  {
   "cell_type": "code",
   "execution_count": 30,
   "id": "8c1b0c03",
   "metadata": {},
   "outputs": [
    {
     "data": {
      "text/plain": [
       "Text(0.5, 1.0, 'Barrier zeroing function $phi(X)$')"
      ]
     },
     "execution_count": 30,
     "metadata": {},
     "output_type": "execute_result"
    },
    {
     "data": {
      "image/png": "[encoded data removed]",
      "text/plain": [
       "<Figure size 432x288 with 1 Axes>"
      ]
     },
     "metadata": {
      "needs_background": "light"
     },
     "output_type": "display_data"
    }
   ],
   "source": [
    "plt.figure()\n",
    "plt.plot(t_cbc[0:M], phi_cbc[0:M]); plt.axhline(y = 0, c = 'r');plt.axhline(y=theta,c='g'); plt.axhline(y=theta+margin,c='y'); plt.grid()\n",
    "plt.xlabel('time in seconds')\n",
    "plt.ylabel('$phi(X)$')\n",
    "plt.title('Barrier zeroing function $phi(X)$')\n",
    "\n",
    "\n",
    "#Plot looks good now!!"
   ]
  },
  {
   "cell_type": "code",
   "execution_count": null,
   "id": "455b3118",
   "metadata": {},
   "outputs": [],
   "source": []
  }
 ],
 "metadata": {
  "kernelspec": {
   "display_name": "disparity",
   "language": "python",
   "name": "disparity"
  },
  "language_info": {
   "codemirror_mode": {
    "name": "ipython",
    "version": 3
   },
   "file_extension": ".py",
   "mimetype": "text/x-python",
   "name": "python",
   "nbconvert_exporter": "python",
   "pygments_lexer": "ipython3",
   "version": "3.6.13"
  }
 },
 "nbformat": 4,
 "nbformat_minor": 5
}
