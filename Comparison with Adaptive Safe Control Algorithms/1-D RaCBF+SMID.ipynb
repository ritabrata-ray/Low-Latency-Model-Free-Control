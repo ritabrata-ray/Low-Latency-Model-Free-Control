{
 "cells": [
  {
   "cell_type": "code",
   "execution_count": 1,
   "id": "10ff649a",
   "metadata": {},
   "outputs": [],
   "source": [
    "import numpy as np\n",
    "import matplotlib.pyplot as plt\n",
    "from scipy import integrate\n",
    "import control as ct\n",
    "import qpsolvers\n",
    "from qpsolvers import solve_qp\n",
    "from matplotlib import animation\n",
    "from scipy import signal\n",
    "import math\n",
    "import cvxpy as cp"
   ]
  },
  {
   "cell_type": "code",
   "execution_count": 2,
   "id": "4b07c638",
   "metadata": {},
   "outputs": [
    {
     "name": "stdout",
     "output_type": "stream",
     "text": [
      "['cvxpy', 'ecos', 'osqp', 'quadprog', 'scs']\n"
     ]
    }
   ],
   "source": [
    "print(qpsolvers.available_solvers)"
   ]
  },
  {
   "cell_type": "code",
   "execution_count": 3,
   "id": "697adbd0",
   "metadata": {},
   "outputs": [],
   "source": [
    "N=1000\n",
    "t=np.arange(N)*(1/4000)"
   ]
  },
  {
   "cell_type": "code",
   "execution_count": 4,
   "id": "5b7816e1",
   "metadata": {},
   "outputs": [],
   "source": [
    "x_0=[0.1999]\n",
    "theta_est_0=0"
   ]
  },
  {
   "cell_type": "code",
   "execution_count": 5,
   "id": "2ad61ca6",
   "metadata": {},
   "outputs": [],
   "source": [
    "def f (x):\n",
    "    return 1.0*x"
   ]
  },
  {
   "cell_type": "code",
   "execution_count": 6,
   "id": "53f69d09",
   "metadata": {},
   "outputs": [],
   "source": [
    "def g (x): \n",
    "    return 1.0"
   ]
  },
  {
   "cell_type": "code",
   "execution_count": 7,
   "id": "9ecc6fc0",
   "metadata": {},
   "outputs": [],
   "source": [
    "def F (x):\n",
    "    return x"
   ]
  },
  {
   "cell_type": "code",
   "execution_count": 8,
   "id": "f6b6769f",
   "metadata": {},
   "outputs": [],
   "source": [
    "theta_star=0.5\n"
   ]
  },
  {
   "cell_type": "code",
   "execution_count": 9,
   "id": "3ed4753a",
   "metadata": {},
   "outputs": [],
   "source": [
    "phi=lambda x: 1-25*x**2"
   ]
  },
  {
   "cell_type": "code",
   "execution_count": 10,
   "id": "00dd61f9",
   "metadata": {},
   "outputs": [],
   "source": [
    "grad_phi=lambda x: -50*x"
   ]
  },
  {
   "cell_type": "code",
   "execution_count": 11,
   "id": "483077d9",
   "metadata": {},
   "outputs": [],
   "source": [
    "grad_phi_theta=lambda x:0"
   ]
  },
  {
   "cell_type": "code",
   "execution_count": 12,
   "id": "bc309cfc",
   "metadata": {},
   "outputs": [],
   "source": [
    "def u_nominal (x):\n",
    "    return -x"
   ]
  },
  {
   "cell_type": "code",
   "execution_count": 13,
   "id": "0ded1b55",
   "metadata": {},
   "outputs": [],
   "source": [
    "#Hyperparameters\n",
    "\n",
    "theta=0.07\n",
    "margin=0.0\n",
    "D=0.07\n",
    "#correction_strength=4\n",
    "#alpha=10"
   ]
  },
  {
   "cell_type": "code",
   "execution_count": 14,
   "id": "65a4f7dc",
   "metadata": {},
   "outputs": [],
   "source": [
    "Ts=1/4000\n",
    "U=np.zeros(N)\n",
    "S=np.zeros(N)\n",
    "Dot_X=np.zeros(N)\n",
    "Dot_theta_est=np.zeros(N)\n",
    "Gamma=5.0\n",
    "#last_u=0\n",
    "#last_u=u_nominal(x_0)\n",
    "#global_state=0\n",
    "#global_u=0\n",
    "#global_timer=0\n",
    "count=0\n",
    "\n",
    "r_min=0.0\n",
    "r_max=1.0\n",
    "\n",
    "v_max=2.0"
   ]
  },
  {
   "cell_type": "code",
   "execution_count": 15,
   "id": "353b5fef",
   "metadata": {},
   "outputs": [],
   "source": [
    "def tau(x,theta_est):\n",
    "    return -grad_phi(x)*F(x)"
   ]
  },
  {
   "cell_type": "code",
   "execution_count": 16,
   "id": "4581f2c7",
   "metadata": {},
   "outputs": [],
   "source": [
    "def lamda_cbf(x,theta_est):\n",
    "    return theta_est-Gamma*grad_phi_theta(x)"
   ]
  },
  {
   "cell_type": "code",
   "execution_count": 17,
   "id": "18b8b570",
   "metadata": {},
   "outputs": [],
   "source": [
    "def RaCBF_SMID(x,theta_est,v_max):\n",
    "    un=u_nominal(x)\n",
    "    u=cp.Variable(1)\n",
    "    P=np.array([[2.0]])\n",
    "    q=np.array(-2*un)\n",
    "    G=np.array([-1*grad_phi(x)*g(x)])\n",
    "    h=np.array(grad_phi(x)*(f(x)+F(x)*lamda_cbf(x,theta_est))+phi(x)-((1/(2*Gamma))*(v_max)**2))\n",
    "    A=np.array([[0.0]])\n",
    "    b=np.array([0.0])\n",
    "    prob = cp.Problem(cp.Minimize((1/2)*cp.quad_form(u, P) + q.T @ u),\n",
    "                 [G @ u <= h,\n",
    "                  A @ u == b])\n",
    "    prob.solve()\n",
    "    if u is None:\n",
    "        print(\"solver failed\")\n",
    "    return u.value"
   ]
  },
  {
   "cell_type": "code",
   "execution_count": 18,
   "id": "9fbf7e51",
   "metadata": {},
   "outputs": [],
   "source": [
    "def play_dynamics(X,theta_est):\n",
    "    global count\n",
    "    \n",
    "    #This part is new for SMID.\n",
    "    #We need to explicitly make sure that|theta_est-theta_star|is indeed within v_max, so we update v_max accordingly.\n",
    "    global r_min\n",
    "    global r_max\n",
    "    global v_max\n",
    "    \n",
    "    X_dot_minus_est=Dot_X[count-1]\n",
    "    \n",
    "    U_last=U[count-1]\n",
    "    \n",
    "    #first update r_min and r_max, the U and L limits of theta_star uncertainty using uncertainty bound D.\n",
    "    \n",
    "    if(F(X)>0):\n",
    "        r_min=np.maximum(r_min,((X_dot_minus_est-f(X)-g(X)*U_last-D)/(F(X))))\n",
    "        r_max=np.minimum(r_max,((X_dot_minus_est-f(X)-g(X)*U_last+D)/(F(X))))\n",
    "        \n",
    "    else:\n",
    "        if(F(X)<0):\n",
    "            r_max=np.minimum(r_max,((X_dot_minus_est-f(X)-g(X)*U_last-D)/(F(X))))\n",
    "            r_min=np.maximum(r_min,((X_dot_minus_est-f(X)-g(X)*U_last+D)/(F(X))))\n",
    "        else:\n",
    "            r_min=r_min\n",
    "            r_max=r_max   #No need to update if F(X) is zero.\n",
    "            \n",
    "    \n",
    "    \n",
    "    \n",
    "    #Now update v_max from the above information. Only update it after every 10% of the horizon length.\n",
    "    \n",
    "    if(count%10==0):\n",
    "    \n",
    "        v_max=np.maximum(np.abs(theta_est-r_min),np.abs(theta_est-r_max))\n",
    "    \n",
    "    \n",
    "    #The SMID related modification part is now over here.\n",
    "    \n",
    "    \n",
    "    \n",
    "    #global last_u\n",
    "    #u=u_nominal(X)\n",
    "    u=RaCBF_SMID(X,theta_est,v_max)\n",
    "    if (count < N):\n",
    "        U[count]=u\n",
    "        S[count]=X\n",
    "        Dot_X[count]=f(X)+np.dot(g(X),u)+np.dot(F(X),theta_star)\n",
    "        #last_u=u\n",
    "        Dot_theta_est[count]=Gamma*tau(X,theta_est)\n",
    "        count=count+1\n",
    "    return (Dot_X[count-1],Dot_theta_est[count-1])"
   ]
  },
  {
   "cell_type": "code",
   "execution_count": 19,
   "id": "1acb1f05",
   "metadata": {},
   "outputs": [],
   "source": [
    "def dynamics_runner(x_0,theta_est_0,t):\n",
    "    d=t.shape[0]\n",
    "    X_0=np.copy(x_0)\n",
    "    T_0=np.copy(theta_est_0)\n",
    "    X=x_0\n",
    "    T=theta_est_0\n",
    "    X=np.expand_dims(X_0,axis=0)\n",
    "    T=np.expand_dims(T_0,axis=0)\n",
    "    #print(np.shape(X))\n",
    "    dt=t[1]-t[0]\n",
    "    for i in range(d):\n",
    "        del_X,del_theta_est=play_dynamics(X[i],T[i])\n",
    "        dX=dt*del_X\n",
    "        dT=dt*del_theta_est\n",
    "        #print(dX)\n",
    "        X_n=X[i]+dX\n",
    "        T_n=T[i]+dT\n",
    "        X=np.append(X,[X_n],axis=0)\n",
    "        T=np.append(T,[T_n],axis=0)\n",
    "    return (X,T)"
   ]
  },
  {
   "cell_type": "code",
   "execution_count": 20,
   "id": "e84ad547",
   "metadata": {},
   "outputs": [],
   "source": [
    "X,T=dynamics_runner(x_0,theta_est_0,t)"
   ]
  },
  {
   "cell_type": "code",
   "execution_count": 21,
   "id": "83a43792",
   "metadata": {},
   "outputs": [],
   "source": [
    "phi_RaCBFS=np.zeros(N)\n",
    "for i in range(N):\n",
    "    phi_RaCBFS[i]=phi(S[i])"
   ]
  },
  {
   "cell_type": "code",
   "execution_count": 22,
   "id": "4f70737a",
   "metadata": {},
   "outputs": [
    {
     "data": {
      "text/plain": [
       "Text(0.5, 1.0, 'Barrier zeroing function $phi(X)$')"
      ]
     },
     "execution_count": 22,
     "metadata": {},
     "output_type": "execute_result"
    },
    {
     "data": {
      "image/png": "[encoded data removed]",
      "text/plain": [
       "<Figure size 432x288 with 1 Axes>"
      ]
     },
     "metadata": {
      "needs_background": "light"
     },
     "output_type": "display_data"
    }
   ],
   "source": [
    "plt.figure()\n",
    "plt.plot(t[0:N], phi_RaCBFS[0:N]); plt.axhline(y = 0, c = 'r');plt.axhline(y=theta,c='g'); plt.axhline(y=theta+margin,c='y'); plt.grid()\n",
    "plt.xlabel('time in seconds')\n",
    "plt.ylabel('$phi(X)$')\n",
    "plt.title('Barrier zeroing function $phi(X)$')"
   ]
  },
  {
   "cell_type": "code",
   "execution_count": 23,
   "id": "35193c20",
   "metadata": {},
   "outputs": [
    {
     "data": {
      "text/plain": [
       "Text(0.5, 1.0, 'State Variable')"
      ]
     },
     "execution_count": 23,
     "metadata": {},
     "output_type": "execute_result"
    },
    {
     "data": {
      "image/png": "[encoded data removed]",
      "text/plain": [
       "<Figure size 432x288 with 1 Axes>"
      ]
     },
     "metadata": {
      "needs_background": "light"
     },
     "output_type": "display_data"
    }
   ],
   "source": [
    "plt.figure()\n",
    "plt.plot(t[0:N], S[0:N]); plt.axvline(x = 0.2, c = 'r');plt.axvline(x=-0.2,c='r'); plt.grid()\n",
    "plt.xlabel('time in seconds')\n",
    "plt.ylabel('$X$')\n",
    "plt.title('State Variable')"
   ]
  },
  {
   "cell_type": "code",
   "execution_count": 24,
   "id": "8f6bd134",
   "metadata": {},
   "outputs": [
    {
     "data": {
      "text/plain": [
       "Text(0.5, 1.0, 'Parameter estimation')"
      ]
     },
     "execution_count": 24,
     "metadata": {},
     "output_type": "execute_result"
    },
    {
     "data": {
      "image/png": "[encoded data removed]",
      "text/plain": [
       "<Figure size 432x288 with 1 Axes>"
      ]
     },
     "metadata": {
      "needs_background": "light"
     },
     "output_type": "display_data"
    }
   ],
   "source": [
    "plt.figure()\n",
    "plt.plot(t[0:N], T[0:N]); plt.axhline(y = 0.5, c = 'r'); plt.grid()\n",
    "plt.xlabel('time in seconds')\n",
    "plt.ylabel('Theta Estimate')\n",
    "plt.title('Parameter estimation')"
   ]
  },
  {
   "cell_type": "code",
   "execution_count": 25,
   "id": "079f8b23",
   "metadata": {},
   "outputs": [
    {
     "data": {
      "text/plain": [
       "Text(0.5, 1.0, 'control variable norm dynamics')"
      ]
     },
     "execution_count": 25,
     "metadata": {},
     "output_type": "execute_result"
    },
    {
     "data": {
      "image/png": "[encoded data removed]",
      "text/plain": [
       "<Figure size 432x288 with 1 Axes>"
      ]
     },
     "metadata": {
      "needs_background": "light"
     },
     "output_type": "display_data"
    }
   ],
   "source": [
    "Un=np.zeros(N)\n",
    "for i in range(N):\n",
    "    Un[i]=u_nominal(S[i])\n",
    "plt.figure()\n",
    "#U_norm=np.linalg.norm(U,axis=0)\n",
    "plt.plot(t[0:N],U[0:N])\n",
    "plt.xlabel('time in seconds')\n",
    "plt.ylabel('control/action variable')\n",
    "plt.title('control variable norm dynamics')"
   ]
  },
  {
   "cell_type": "code",
   "execution_count": 26,
   "id": "462565a6",
   "metadata": {},
   "outputs": [
    {
     "data": {
      "text/plain": [
       "Text(0.5, 1.0, 'Nominal Controller')"
      ]
     },
     "execution_count": 26,
     "metadata": {},
     "output_type": "execute_result"
    },
    {
     "data": {
      "image/png": "[encoded data removed]",
      "text/plain": [
       "<Figure size 432x288 with 1 Axes>"
      ]
     },
     "metadata": {
      "needs_background": "light"
     },
     "output_type": "display_data"
    }
   ],
   "source": [
    "plt.figure()\n",
    "#U_norm=np.linalg.norm(U,axis=0)\n",
    "plt.plot(t[0:N],Un[0:N])\n",
    "plt.xlabel('time in seconds')\n",
    "plt.ylabel('control/action nominal')\n",
    "plt.title('Nominal Controller')"
   ]
  },
  {
   "cell_type": "code",
   "execution_count": 27,
   "id": "06c0cb6f",
   "metadata": {},
   "outputs": [
    {
     "data": {
      "text/plain": [
       "1.4697007758574936"
      ]
     },
     "execution_count": 27,
     "metadata": {},
     "output_type": "execute_result"
    }
   ],
   "source": [
    "np.random.normal(0,1)"
   ]
  },
  {
   "cell_type": "code",
   "execution_count": 28,
   "id": "f395c656",
   "metadata": {},
   "outputs": [
    {
     "name": "stdout",
     "output_type": "stream",
     "text": [
      "[[0.1999    ]\n",
      " [0.19992396]\n",
      " [0.19994778]\n",
      " ...\n",
      " [0.16056948]\n",
      " [0.16048406]\n",
      " [0.16039863]]\n"
     ]
    }
   ],
   "source": [
    "print(X)"
   ]
  },
  {
   "cell_type": "code",
   "execution_count": 29,
   "id": "4ddd04cd",
   "metadata": {},
   "outputs": [
    {
     "data": {
      "text/plain": [
       "1.2513718553722433"
      ]
     },
     "execution_count": 29,
     "metadata": {},
     "output_type": "execute_result"
    }
   ],
   "source": [
    "T[500]"
   ]
  },
  {
   "cell_type": "code",
   "execution_count": 30,
   "id": "ca539a50",
   "metadata": {},
   "outputs": [
    {
     "name": "stdout",
     "output_type": "stream",
     "text": [
      "Stored 'phi_RaCBFS' (ndarray)\n"
     ]
    }
   ],
   "source": [
    "%store phi_RaCBFS"
   ]
  },
  {
   "cell_type": "code",
   "execution_count": null,
   "id": "dd0a2b71",
   "metadata": {},
   "outputs": [],
   "source": []
  }
 ],
 "metadata": {
  "kernelspec": {
   "display_name": "disparity",
   "language": "python",
   "name": "disparity"
  },
  "language_info": {
   "codemirror_mode": {
    "name": "ipython",
    "version": 3
   },
   "file_extension": ".py",
   "mimetype": "text/x-python",
   "name": "python",
   "nbconvert_exporter": "python",
   "pygments_lexer": "ipython3",
   "version": "3.6.13"
  }
 },
 "nbformat": 4,
 "nbformat_minor": 5
}
