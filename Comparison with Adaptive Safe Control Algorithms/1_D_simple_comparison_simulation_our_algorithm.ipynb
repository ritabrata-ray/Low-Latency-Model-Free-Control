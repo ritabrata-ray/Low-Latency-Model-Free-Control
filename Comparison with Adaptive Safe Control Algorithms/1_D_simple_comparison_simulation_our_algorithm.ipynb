{
 "cells": [
  {
   "cell_type": "code",
   "execution_count": 1,
   "id": "88fa6e58",
   "metadata": {},
   "outputs": [],
   "source": [
    "import numpy as np\n",
    "import matplotlib.pyplot as plt\n",
    "from scipy import integrate\n",
    "import control as ct\n",
    "from qpsolvers import cvxopt_solve_qp as solve_qp\n",
    "from matplotlib import animation\n",
    "from scipy import signal\n",
    "import math"
   ]
  },
  {
   "cell_type": "code",
   "execution_count": 2,
   "id": "9859a622",
   "metadata": {},
   "outputs": [],
   "source": [
    "N=1000\n",
    "t=np.arange(N)*(1/4000)"
   ]
  },
  {
   "cell_type": "code",
   "execution_count": 3,
   "id": "88f33d7b",
   "metadata": {},
   "outputs": [],
   "source": [
    "x_0=[0.1999]"
   ]
  },
  {
   "cell_type": "code",
   "execution_count": 4,
   "id": "da6b1142",
   "metadata": {},
   "outputs": [],
   "source": [
    "def f (x):\n",
    "    return 1.5*x"
   ]
  },
  {
   "cell_type": "code",
   "execution_count": 5,
   "id": "c6252251",
   "metadata": {},
   "outputs": [],
   "source": [
    "def g (x): \n",
    "    return 1"
   ]
  },
  {
   "cell_type": "code",
   "execution_count": 6,
   "id": "63b6a31a",
   "metadata": {},
   "outputs": [],
   "source": [
    "phi=lambda x: 1-25*x**2"
   ]
  },
  {
   "cell_type": "code",
   "execution_count": 7,
   "id": "448e5531",
   "metadata": {},
   "outputs": [],
   "source": [
    "grad_phi=lambda x: -50*x"
   ]
  },
  {
   "cell_type": "code",
   "execution_count": 8,
   "id": "971a4a12",
   "metadata": {},
   "outputs": [],
   "source": [
    "def u_nominal (x):\n",
    "    return -x"
   ]
  },
  {
   "cell_type": "code",
   "execution_count": 9,
   "id": "cad4b573",
   "metadata": {},
   "outputs": [],
   "source": [
    "#Hyperparameters\n",
    "\n",
    "theta=0.001\n",
    "margin=0.0\n",
    "correction_strength=4\n",
    "#alpha=10"
   ]
  },
  {
   "cell_type": "code",
   "execution_count": 10,
   "id": "068448c9",
   "metadata": {},
   "outputs": [],
   "source": [
    "Ts=1/4000\n",
    "U=np.zeros(N)\n",
    "S=np.zeros(N)\n",
    "Dot_X=np.zeros(N)\n",
    "last_u=0\n",
    "#last_u=u_nominal(x_0)\n",
    "global_state=0\n",
    "global_u=0\n",
    "#global_timer=0\n",
    "count=0"
   ]
  },
  {
   "cell_type": "code",
   "execution_count": 11,
   "id": "8aacd9aa",
   "metadata": {},
   "outputs": [],
   "source": [
    "def sign_flipper(x,last_u):\n",
    "    global global_state      #This is cf of algo\n",
    "    global global_u\n",
    "    dot_x=0\n",
    "    dot_x= f(x)+np.dot(g(x),last_u)\n",
    "    dot_phi=np.dot(grad_phi(x),dot_x)\n",
    "    #print(\"at time\", count, \"CBF=\",phi(x))\n",
    "    if ((global_state==0)and((phi(x)>theta) or (dot_phi >= 0))):\n",
    "        u=u_nominal(x)\n",
    "        global_state=0\n",
    "    else:\n",
    "        if (global_state==1):\n",
    "            u=global_u\n",
    "            dot_x_plus=f(x)+np.dot(g(x),u)\n",
    "            dot_phi_plus=np.dot(grad_phi(x),dot_x_plus)\n",
    "            if((dot_phi_plus<0) or (phi(x)>theta+margin)):\n",
    "                global_state=0\n",
    "            #print(\"correction applied again!\")\n",
    "        else:\n",
    "            u=last_u-2*correction_strength*np.dot(1/(g(x)),dot_x)\n",
    "            global_u=u\n",
    "            global_state=1\n",
    "            #print(\"correction applied.\")\n",
    "    last_u=u\n",
    "    return u"
   ]
  },
  {
   "cell_type": "code",
   "execution_count": 12,
   "id": "99f0d45c",
   "metadata": {},
   "outputs": [],
   "source": [
    "def sign_flipper_2(x,last_u):\n",
    "    dot_x=0\n",
    "    dot_x= f(x)+np.dot(g(x),last_u)\n",
    "    dot_phi=np.dot(grad_phi(x),dot_x)\n",
    "    #print(\"at time\", count, \"CBF=\",phi(x))\n",
    "    if (phi(x)>theta):\n",
    "        u=u_nominal(x)\n",
    "    else:\n",
    "        if (dot_phi>=0):\n",
    "            u=last_u\n",
    "        else:\n",
    "            u=last_u-2*correction_strength*np.dot(1/(g(x)),dot_x)\n",
    "            #print(\"correction applied.\")\n",
    "    last_u=u\n",
    "    return u\n",
    "    "
   ]
  },
  {
   "cell_type": "code",
   "execution_count": 13,
   "id": "40bd7b8c",
   "metadata": {},
   "outputs": [],
   "source": [
    "def play_dynamics(X):\n",
    "    global count\n",
    "    global last_u\n",
    "    #u=u_nominal(X)\n",
    "    #u=sign_flipper(X,last_u)\n",
    "    u=sign_flipper_2(X,last_u)\n",
    "    if (count < N):\n",
    "        U[count]=u\n",
    "        S[count]=X\n",
    "        Dot_X[count]=f(X)+np.dot(g(X),u)\n",
    "        last_u=u\n",
    "        count=count+1\n",
    "    return (f(X)+np.dot(g(X),u))"
   ]
  },
  {
   "cell_type": "code",
   "execution_count": 14,
   "id": "6d758c0a",
   "metadata": {},
   "outputs": [],
   "source": [
    "def dynamics_runner(x_0,t):\n",
    "    d=t.shape[0]\n",
    "    X_0=np.copy(x_0)\n",
    "    X=x_0\n",
    "    X=np.expand_dims(X_0,axis=0)\n",
    "    #print(np.shape(X))\n",
    "    dt=t[1]-t[0]\n",
    "    for i in range(d):\n",
    "        dX=dt*play_dynamics(X[i])\n",
    "        #print(dX)\n",
    "        X_n=X[i]+dX\n",
    "        X=np.append(X,[X_n],axis=0)\n",
    "    return X"
   ]
  },
  {
   "cell_type": "code",
   "execution_count": 15,
   "id": "a0c02cc6",
   "metadata": {},
   "outputs": [],
   "source": [
    "X=dynamics_runner(x_0,t)"
   ]
  },
  {
   "cell_type": "code",
   "execution_count": 16,
   "id": "cc752e6f",
   "metadata": {},
   "outputs": [],
   "source": [
    "phi_test=np.zeros(N)\n",
    "for i in range(N):\n",
    "    phi_test[i]=phi(S[i])"
   ]
  },
  {
   "cell_type": "code",
   "execution_count": 17,
   "id": "c98ca791",
   "metadata": {},
   "outputs": [
    {
     "data": {
      "text/plain": [
       "Text(0.5, 1.0, 'Barrier zeroing function $phi(X)$')"
      ]
     },
     "execution_count": 17,
     "metadata": {},
     "output_type": "execute_result"
    },
    {
     "data": {
      "image/png": "[encoded data removed]",
      "text/plain": [
       "<Figure size 432x288 with 1 Axes>"
      ]
     },
     "metadata": {
      "needs_background": "light"
     },
     "output_type": "display_data"
    }
   ],
   "source": [
    "plt.figure()\n",
    "plt.plot(t[0:N], phi_test[0:N]); plt.axhline(y = 0, c = 'r');plt.axhline(y=theta,c='g'); plt.axhline(y=theta+margin,c='y'); plt.grid()\n",
    "plt.xlabel('time in seconds')\n",
    "plt.ylabel('$phi(X)$')\n",
    "plt.title('Barrier zeroing function $phi(X)$')"
   ]
  },
  {
   "cell_type": "code",
   "execution_count": 18,
   "id": "f4e87808",
   "metadata": {},
   "outputs": [
    {
     "data": {
      "text/plain": [
       "Text(0.5, 1.0, 'control variable norm dynamics')"
      ]
     },
     "execution_count": 18,
     "metadata": {},
     "output_type": "execute_result"
    },
    {
     "data": {
      "image/png": "[encoded data removed]",
      "text/plain": [
       "<Figure size 432x288 with 1 Axes>"
      ]
     },
     "metadata": {
      "needs_background": "light"
     },
     "output_type": "display_data"
    }
   ],
   "source": [
    "plt.figure()\n",
    "#U_norm=np.linalg.norm(U,axis=0)\n",
    "plt.plot(t[0:N],U[0:N])\n",
    "plt.xlabel('time in seconds')\n",
    "plt.ylabel('control/action variable')\n",
    "plt.title('control variable norm dynamics')"
   ]
  },
  {
   "cell_type": "code",
   "execution_count": 19,
   "id": "1a174973",
   "metadata": {},
   "outputs": [
    {
     "name": "stdout",
     "output_type": "stream",
     "text": [
      "Stored 'phi_test' (ndarray)\n"
     ]
    }
   ],
   "source": [
    "%store phi_test"
   ]
  },
  {
   "cell_type": "code",
   "execution_count": null,
   "id": "6d9fa2bf",
   "metadata": {},
   "outputs": [],
   "source": []
  },
  {
   "cell_type": "code",
   "execution_count": null,
   "id": "e364de51",
   "metadata": {},
   "outputs": [],
   "source": []
  },
  {
   "cell_type": "code",
   "execution_count": null,
   "id": "022000da",
   "metadata": {},
   "outputs": [],
   "source": []
  },
  {
   "cell_type": "code",
   "execution_count": null,
   "id": "29180500",
   "metadata": {},
   "outputs": [],
   "source": []
  }
 ],
 "metadata": {
  "kernelspec": {
   "display_name": "disparity",
   "language": "python",
   "name": "disparity"
  },
  "language_info": {
   "codemirror_mode": {
    "name": "ipython",
    "version": 3
   },
   "file_extension": ".py",
   "mimetype": "text/x-python",
   "name": "python",
   "nbconvert_exporter": "python",
   "pygments_lexer": "ipython3",
   "version": "3.6.13"
  }
 },
 "nbformat": 4,
 "nbformat_minor": 5
}
