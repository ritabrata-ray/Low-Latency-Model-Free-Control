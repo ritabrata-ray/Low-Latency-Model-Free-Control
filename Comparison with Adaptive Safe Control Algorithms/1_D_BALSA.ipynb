{
 "cells": [
  {
   "cell_type": "code",
   "execution_count": 1,
   "id": "88fa6e58",
   "metadata": {},
   "outputs": [],
   "source": [
    "import numpy as np\n",
    "import matplotlib.pyplot as plt\n",
    "from scipy import integrate\n",
    "import control as ct\n",
    "from qpsolvers import cvxopt_solve_qp as solve_qp\n",
    "from matplotlib import animation\n",
    "from scipy import signal\n",
    "import math\n",
    "import cvxpy as cp"
   ]
  },
  {
   "cell_type": "code",
   "execution_count": 2,
   "id": "d4743396",
   "metadata": {},
   "outputs": [
    {
     "name": "stdout",
     "output_type": "stream",
     "text": [
      "2.6.0\n"
     ]
    }
   ],
   "source": [
    "import tensorflow as tf\n",
    "from tensorflow import keras\n",
    "from keras.models import Model\n",
    "from keras.layers import Input, Layer, Dense, Dropout, Activation\n",
    "from keras import backend as K\n",
    "print(tf.__version__)\n",
    "# # tf.compat.v1.enable_eager_execution()\n",
    "# tf.executing_eagerly()\n",
    "tf.compat.v1.disable_eager_execution()"
   ]
  },
  {
   "cell_type": "code",
   "execution_count": 3,
   "id": "9859a622",
   "metadata": {},
   "outputs": [],
   "source": [
    "N=1000\n",
    "t=np.arange(N)*(1/4000)\n",
    "Ts=1/4000"
   ]
  },
  {
   "cell_type": "code",
   "execution_count": 4,
   "id": "88f33d7b",
   "metadata": {},
   "outputs": [],
   "source": [
    "x_0=[0.1999]"
   ]
  },
  {
   "cell_type": "code",
   "execution_count": 5,
   "id": "da6b1142",
   "metadata": {},
   "outputs": [],
   "source": [
    "def f (x):\n",
    "    return 1.5*x"
   ]
  },
  {
   "cell_type": "code",
   "execution_count": 6,
   "id": "c6252251",
   "metadata": {},
   "outputs": [],
   "source": [
    "def g (x): \n",
    "    return 1"
   ]
  },
  {
   "cell_type": "code",
   "execution_count": 7,
   "id": "c17cc1bc",
   "metadata": {},
   "outputs": [],
   "source": [
    "def hat_f (x):\n",
    "    return x"
   ]
  },
  {
   "cell_type": "code",
   "execution_count": 8,
   "id": "63b6a31a",
   "metadata": {},
   "outputs": [],
   "source": [
    "phi=lambda x: 1-25*x**2"
   ]
  },
  {
   "cell_type": "code",
   "execution_count": 9,
   "id": "448e5531",
   "metadata": {},
   "outputs": [],
   "source": [
    "grad_phi=lambda x: -50*x"
   ]
  },
  {
   "cell_type": "code",
   "execution_count": 10,
   "id": "971a4a12",
   "metadata": {},
   "outputs": [],
   "source": [
    "def u_nominal (x):       #We may not use this\n",
    "    return -x"
   ]
  },
  {
   "cell_type": "code",
   "execution_count": 11,
   "id": "cad4b573",
   "metadata": {},
   "outputs": [],
   "source": [
    "#Hyperparameters   #For now ignore these too! Please do not delete these.\n",
    "\n",
    "theta=0.1\n",
    "margin=0.07\n",
    "correction_strength=4\n",
    "#alpha=10"
   ]
  },
  {
   "cell_type": "code",
   "execution_count": 12,
   "id": "068448c9",
   "metadata": {},
   "outputs": [],
   "source": [
    "\n",
    "U=np.zeros(N)\n",
    "S=np.zeros(N)\n",
    "Dot_X=np.zeros(N)\n",
    "Y=np.zeros(N)\n",
    "last_u=0\n",
    "#last_u=u_nominal(x_0)\n",
    "global_state=0\n",
    "global_u=0\n",
    "#global_timer=0\n",
    "count=0\n",
    "m=0\n",
    "s=0"
   ]
  },
  {
   "cell_type": "code",
   "execution_count": 13,
   "id": "ae23a79d",
   "metadata": {},
   "outputs": [],
   "source": [
    "# Bayesian neural networks\n",
    "class NegativeLogLikelihood(Layer):\n",
    "\tdef call(self, inputs):\n",
    "\t\ty_pred_mean = inputs[0]\n",
    "\t\ty_pred_var = inputs[1]\n",
    "\t\ty_true = inputs[2]\n",
    "\t\tloss = K.sum(K.log(y_pred_var+K.epsilon())+K.square(y_pred_mean-y_true) / y_pred_var,axis=-1)\n",
    "\t\treturn loss\n",
    "\n",
    "def identity_loss(y_true, loss):\n",
    "\treturn loss\n",
    "\n",
    "class VanillaNN:\n",
    "\tdef __init__(self,xdim,ydim):\n",
    "\t\tinput_x = Input(shape=(xdim,), dtype='float', name='input_x')\n",
    "\t\tx = Dense(256, activation='tanh')(input_x)\n",
    "\t\tx = Dropout(0.5)(x)\n",
    "\t\tx = Dense(256, activation='tanh')(x)\n",
    "\t\tx = Dropout(0.5)(x)\n",
    "\t\tx = Dense(256, activation='tanh')(x)\n",
    "\t\tx = Dropout(0.5)(x)\n",
    "\t\tx = Dense(256, activation='tanh')(x)\n",
    "\t\toutput_mean = Dense(ydim, activation='linear', name='output_mean')(x)\n",
    "\t\toutput_var = Dense(ydim, activation='softplus', name='output_var')(x)\n",
    "\t\tinput_y = Input(shape=(ydim,), dtype='float', name='input_y')\n",
    "\t\toutput_loss = NegativeLogLikelihood()([output_mean,output_var,input_y])\n",
    "\n",
    "\t\tself.m = Model(inputs=[input_x,input_y], outputs=[output_mean,output_var,output_loss])\n",
    "\t\trmsprop = tf.keras.optimizers.RMSprop(learning_rate=0.001, rho=0.9, epsilon=None, decay=0.0)\n",
    "\t\tself.m.compile(loss=identity_loss, loss_weights=[0., 0., 1.], optimizer=rmsprop)\n",
    "\t\t# self.m.run_eagerly = True\n",
    "\t\t# self.m.compile(run_eagerly=True)\n",
    "\t\t# tf.compat.v1.enable_eager_execution()\n",
    "\t\tself.graph = tf.compat.v1.get_default_graph()\n",
    "\t  \n",
    "\n",
    "\tdef train(self, Z_train, Y_train,_epoch=50,_batch_size=64,_verbose=0):\n",
    "\t\twith self.graph.as_default():\n",
    "\t\t\tself.m.fit([Z_train,Y_train], [Y_train,Y_train,Y_train],epochs=_epoch,batch_size=_batch_size,verbose=_verbose)\n",
    "\n",
    "\tdef predict(self, ZN, Y, _batch_size=1):\n",
    "\t\twith self.graph.as_default():\n",
    "\t\t\ty, var, loss = self.m.predict([ZN,Y], batch_size=_batch_size)\n",
    "\t\t# print(\"Predicted y \", y)\n",
    "\t\t# print(\"predicted var \", var)\n",
    "\t\t# print(\"predicted loss \", loss)\n",
    "\t\treturn y[0], var[0], loss[0]"
   ]
  },
  {
   "cell_type": "code",
   "execution_count": 14,
   "id": "8aacd9aa",
   "metadata": {},
   "outputs": [],
   "source": [
    "def BALSA(x):\n",
    "    \n",
    "    global m\n",
    "    global s\n",
    "    \n",
    "    x_dot_last_instance=Dot_X[count-1]  #Assuming continuous derivatives. Use this for line 11 of the algorithm, where\n",
    "    # (x_2(t+dt)-x_2(t))/dt can be replaced by this variable.\n",
    "    #Also please see the functions below, S[0:count-1], will give you access to all the past values of X_t for NN training.\n",
    "    #Likewise U[0:count-1] and Dot_X[0:count-1] for all the past control and x_dot values.\n",
    "    #Y[0:count-1] gives us all the past Y_t values for the neural network training.\n",
    "    \n",
    "    \n",
    "    #When x_dot is continuous, x_dot_last_instance=f(x)+g(x)*u, even though we don't know f(x). So, we have:\n",
    "    mu_pd=x_dot_last_instance-g(S[count-1])*U[count-1]+g(x)*u_nominal(x) \n",
    "    \n",
    "    #The above mu_pd is then just f(x)+g(x)*u which a user with unknown f(x) can compute too!\n",
    "    \n",
    "    #So, without the mu_qp term for safety and assuming mu_ad is perfect, this should\n",
    "    #lead to the dynamics, x_dot=f(x)+g(x)u=0.5*x, which is exponentially increasing, leading the state variable into \n",
    "    #the unsafe regiom soon.\n",
    "    \n",
    "    #Below, we need to predict Y_t from X_t using a Neural Network.\n",
    "    #Use all past data to train the network.\n",
    "    #Now the trained NN model takes (x) as input and returns the value of corresponding y. \n",
    "    #The NN outputs a mean value m, and a standard deviation s.\n",
    "    \n",
    "    \n",
    "    if(count%100==7):\n",
    "    \n",
    "        #Please implement the Neural Network and obtain the prediction (m,s) here.\n",
    "    \n",
    "    \n",
    "        # train the dropout network\n",
    "        #print('train begin...')\n",
    "        xdim = S[0:count-1].ndim\n",
    "        ydim = Y[0:count-1].ndim\n",
    "        dropout_NN = VanillaNN(xdim, ydim)\n",
    "        dropout_NN.train(Z_train = S[0:count-1], Y_train = Y[0:count-1])\n",
    "        #print('train finish')\n",
    "        \n",
    "        # prediction\n",
    "        #print('prediction...')\n",
    "        y_bar, var, loss=dropout_NN.predict(S,Y)\n",
    "        m = np.mean(y_bar)\n",
    "        s = np.var(y_bar)\n",
    "        #print(m,s)\n",
    "        \n",
    "    \n",
    "    \n",
    "    \n",
    "    \n",
    "    \n",
    "    \n",
    "    \n",
    "    \n",
    "    \n",
    "    \n",
    "    \n",
    "    #end of if\n",
    "    \n",
    "    mu_ad=np.random.normal(m,s)\n",
    "    \n",
    "    \n",
    "    \n",
    "    \n",
    "    #Next, we solve the QP to obtain the mu_qp term below. \n",
    "    # phi_0=grad_phi*mu_pd\n",
    "    #phi_1=grad_phi\n",
    "    \n",
    "    #Then the qp is:\n",
    "    # minimize mu_qp^2+5*d^2 \n",
    "    # subject to:\n",
    "    #      phi_0+phi_1*mu_qp >= d\n",
    "    #                     d  <= 0\n",
    "    \n",
    "    #below we take y=[mu_qp,d].T in the quadratic program.\n",
    "    \n",
    "    phi0=grad_phi(x)*mu_pd\n",
    "    phi1=grad_phi(x)\n",
    "    y=cp.Variable(2)\n",
    "    P=np.array([[2.0,0.0],[0.0,10.0]])\n",
    "    q=np.array([0.0,0.0])\n",
    "    G=np.array([[-phi1,1.0],[0.0,1.0]])\n",
    "    h=np.array([phi0,0.0])\n",
    "    A=np.array([0.0,0.0])\n",
    "    b=np.array([0.0])\n",
    "    prob = cp.Problem(cp.Minimize((1/2)*cp.quad_form(y, P) + q.T @ y),\n",
    "                 [G @ y <= h,\n",
    "                  A @ y == b])\n",
    "    prob.solve()\n",
    "    \n",
    "    sol=y.value\n",
    "    \n",
    "    mu_qp=sol[0]\n",
    "    \n",
    "    \n",
    "    \n",
    "    \n",
    "    \n",
    "    \n",
    "    \n",
    "    #Once all the mu's are found we are done here.\n",
    "    u=(1/g(x))*(mu_pd+mu_qp-mu_ad-hat_f(x))   #there is no mu_rm for us.\n",
    "    return u"
   ]
  },
  {
   "cell_type": "code",
   "execution_count": 15,
   "id": "40bd7b8c",
   "metadata": {},
   "outputs": [],
   "source": [
    "def play_dynamics(X):\n",
    "    global count\n",
    "    global last_u\n",
    "    #u=u_nominal(X)\n",
    "    u=BALSA(X)\n",
    "    if (count < N):\n",
    "        U[count]=u\n",
    "        S[count]=X\n",
    "        Dot_X[count]=f(X)+np.dot(g(X),u)\n",
    "        Y[count]=Dot_X[count]-(hat_f(S[count])+g(S[count])*U[count])\n",
    "        count=count+1\n",
    "    return (f(X)+np.dot(g(X),u))"
   ]
  },
  {
   "cell_type": "code",
   "execution_count": 16,
   "id": "6d758c0a",
   "metadata": {},
   "outputs": [],
   "source": [
    "def dynamics_runner(x_0,t):\n",
    "    d=t.shape[0]\n",
    "    X_0=np.copy(x_0)\n",
    "    X=x_0\n",
    "    X=np.expand_dims(X_0,axis=0)\n",
    "    #print(np.shape(X))\n",
    "    dt=t[1]-t[0]\n",
    "    for i in range(d):\n",
    "        dX=dt*play_dynamics(X[i])\n",
    "        #print(dX)\n",
    "        X_n=X[i]+dX\n",
    "        X=np.append(X,[X_n],axis=0)\n",
    "    return X"
   ]
  },
  {
   "cell_type": "code",
   "execution_count": 17,
   "id": "a0c02cc6",
   "metadata": {},
   "outputs": [
    {
     "name": "stderr",
     "output_type": "stream",
     "text": [
      "/Applications/anaconda3/envs/disparity/lib/python3.6/site-packages/ipykernel_launcher.py:83: VisibleDeprecationWarning: Creating an ndarray from ragged nested sequences (which is a list-or-tuple of lists-or-tuples-or ndarrays with different lengths or shapes) is deprecated. If you meant to do this, you must specify 'dtype=object' when creating the ndarray\n",
      "/Applications/anaconda3/envs/disparity/lib/python3.6/site-packages/ipykernel_launcher.py:84: VisibleDeprecationWarning: Creating an ndarray from ragged nested sequences (which is a list-or-tuple of lists-or-tuples-or ndarrays with different lengths or shapes) is deprecated. If you meant to do this, you must specify 'dtype=object' when creating the ndarray\n",
      "/Applications/anaconda3/envs/disparity/lib/python3.6/site-packages/keras/engine/training.py:2470: UserWarning: `Model.state_updates` will be removed in a future version. This property should not be used in TensorFlow 2.0, as `updates` are applied automatically.\n",
      "  warnings.warn('`Model.state_updates` will be removed in a future version. '\n"
     ]
    }
   ],
   "source": [
    "X=dynamics_runner(x_0,t)"
   ]
  },
  {
   "cell_type": "code",
   "execution_count": 18,
   "id": "cc752e6f",
   "metadata": {},
   "outputs": [],
   "source": [
    "phi_balsa=np.zeros(N)\n",
    "for i in range(N):\n",
    "    phi_balsa[i]=phi(S[i])"
   ]
  },
  {
   "cell_type": "code",
   "execution_count": 19,
   "id": "c98ca791",
   "metadata": {},
   "outputs": [
    {
     "data": {
      "text/plain": [
       "Text(0.5, 1.0, 'Barrier zeroing function $phi(X)$')"
      ]
     },
     "execution_count": 19,
     "metadata": {},
     "output_type": "execute_result"
    },
    {
     "data": {
      "image/png": "[encoded data removed]",
      "text/plain": [
       "<Figure size 432x288 with 1 Axes>"
      ]
     },
     "metadata": {
      "needs_background": "light"
     },
     "output_type": "display_data"
    }
   ],
   "source": [
    "plt.figure()\n",
    "plt.plot(t[0:N], phi_balsa[0:N]); plt.axhline(y = 0, c = 'r');plt.axhline(y=theta,c='g'); plt.axhline(y=theta+margin,c='y'); plt.grid()\n",
    "plt.xlabel('time in seconds')\n",
    "plt.ylabel('$phi(X)$')\n",
    "plt.title('Barrier zeroing function $phi(X)$')"
   ]
  },
  {
   "cell_type": "code",
   "execution_count": 20,
   "id": "f4e87808",
   "metadata": {},
   "outputs": [
    {
     "data": {
      "text/plain": [
       "Text(0.5, 1.0, 'control variable norm dynamics')"
      ]
     },
     "execution_count": 20,
     "metadata": {},
     "output_type": "execute_result"
    },
    {
     "data": {
      "image/png": "[encoded data removed]",
      "text/plain": [
       "<Figure size 432x288 with 1 Axes>"
      ]
     },
     "metadata": {
      "needs_background": "light"
     },
     "output_type": "display_data"
    }
   ],
   "source": [
    "plt.figure()\n",
    "#U_norm=np.linalg.norm(U,axis=0)\n",
    "plt.plot(t[0:N],U[0:N])\n",
    "plt.xlabel('time in seconds')\n",
    "plt.ylabel('control/action variable')\n",
    "plt.title('control variable norm dynamics')"
   ]
  },
  {
   "cell_type": "code",
   "execution_count": 21,
   "id": "1a174973",
   "metadata": {},
   "outputs": [
    {
     "data": {
      "text/plain": [
       "Text(0.5, 1.0, 'state variable dynamics')"
      ]
     },
     "execution_count": 21,
     "metadata": {},
     "output_type": "execute_result"
    },
    {
     "data": {
      "image/png": "[encoded data removed]",
      "text/plain": [
       "<Figure size 432x288 with 1 Axes>"
      ]
     },
     "metadata": {
      "needs_background": "light"
     },
     "output_type": "display_data"
    }
   ],
   "source": [
    "plt.figure()\n",
    "#U_norm=np.linalg.norm(U,axis=0)\n",
    "plt.plot(t[0:N],S[0:N])\n",
    "plt.xlabel('time in seconds')\n",
    "plt.ylabel('state variable')\n",
    "plt.title('state variable dynamics')"
   ]
  },
  {
   "cell_type": "code",
   "execution_count": 22,
   "id": "6d9fa2bf",
   "metadata": {},
   "outputs": [
    {
     "name": "stdout",
     "output_type": "stream",
     "text": [
      "Stored 'phi_balsa' (ndarray)\n"
     ]
    }
   ],
   "source": [
    "%store phi_balsa"
   ]
  },
  {
   "cell_type": "code",
   "execution_count": null,
   "id": "e364de51",
   "metadata": {},
   "outputs": [],
   "source": []
  },
  {
   "cell_type": "code",
   "execution_count": null,
   "id": "022000da",
   "metadata": {},
   "outputs": [],
   "source": []
  },
  {
   "cell_type": "code",
   "execution_count": null,
   "id": "29180500",
   "metadata": {},
   "outputs": [],
   "source": []
  }
 ],
 "metadata": {
  "kernelspec": {
   "display_name": "disparity",
   "language": "python",
   "name": "disparity"
  },
  "language_info": {
   "codemirror_mode": {
    "name": "ipython",
    "version": 3
   },
   "file_extension": ".py",
   "mimetype": "text/x-python",
   "name": "python",
   "nbconvert_exporter": "python",
   "pygments_lexer": "ipython3",
   "version": "3.6.13"
  }
 },
 "nbformat": 4,
 "nbformat_minor": 5
}
